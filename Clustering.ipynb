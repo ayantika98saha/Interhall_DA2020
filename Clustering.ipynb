{
 "cells": [
  {
   "cell_type": "code",
   "execution_count": 0,
   "metadata": {
    "colab": {},
    "colab_type": "code",
    "id": "W96nM1b8NIVj"
   },
   "outputs": [],
   "source": [
    "import pandas as pd\n",
    "import numpy as np\n",
    "from sklearn.cluster import KMeans\n",
    "from sklearn.metrics import silhouette_score\n",
    "from sklearn.preprocessing import LabelEncoder, RobustScaler\n",
    "from collections import Counter"
   ]
  },
  {
   "cell_type": "code",
   "execution_count": 0,
   "metadata": {
    "colab": {
     "base_uri": "https://localhost:8080/",
     "height": 122
    },
    "colab_type": "code",
    "id": "ZIL9j6mvNOfo",
    "outputId": "f6330c11-85ec-4e74-e7f1-a8067f2acd85"
   },
   "outputs": [
    {
     "name": "stdout",
     "output_type": "stream",
     "text": [
      "Go to this URL in a browser: https://accounts.google.com/o/oauth2/auth?client_id=947318989803-6bn6qk8qdgf4n4g3pfee6491hc0brc4i.apps.googleusercontent.com&redirect_uri=urn%3aietf%3awg%3aoauth%3a2.0%3aoob&response_type=code&scope=email%20https%3a%2f%2fwww.googleapis.com%2fauth%2fdocs.test%20https%3a%2f%2fwww.googleapis.com%2fauth%2fdrive%20https%3a%2f%2fwww.googleapis.com%2fauth%2fdrive.photos.readonly%20https%3a%2f%2fwww.googleapis.com%2fauth%2fpeopleapi.readonly\n",
      "\n",
      "Enter your authorization code:\n",
      "··········\n",
      "Mounted at /content/drive\n"
     ]
    }
   ],
   "source": [
    "from google.colab import drive\n",
    "drive.mount('/content/drive')"
   ]
  },
  {
   "cell_type": "code",
   "execution_count": 0,
   "metadata": {
    "colab": {},
    "colab_type": "code",
    "id": "TRD7IHNMNQvx"
   },
   "outputs": [],
   "source": [
    "import pandas as pd\n",
    "import numpy as np\n",
    "df=pd.read_csv('/content/drive/My Drive/InterIIT/Data.csv')"
   ]
  },
  {
   "cell_type": "code",
   "execution_count": 0,
   "metadata": {
    "colab": {
     "base_uri": "https://localhost:8080/",
     "height": 204
    },
    "colab_type": "code",
    "id": "kVcHkKSuttRH",
    "outputId": "f7526324-2371-455a-a175-a2589c1525f4"
   },
   "outputs": [
    {
     "data": {
      "text/plain": [
       "Issues with the Manager                           145\n",
       "Lack of Growth                                     96\n",
       "More Challenging Job Roles/ Higher designation     31\n",
       "Better Salary                                      19\n",
       "Termination - Poor Performance                     13\n",
       "Absconding                                          8\n",
       "Termination - Theft                                 6\n",
       "Health Reasons                                      4\n",
       "Higher education                                    3\n",
       "Reasons not known                                   2\n",
       "Name: Remarks, dtype: int64"
      ]
     },
     "execution_count": 4,
     "metadata": {
      "tags": []
     },
     "output_type": "execute_result"
    }
   ],
   "source": [
    "df.Remarks.value_counts()"
   ]
  },
  {
   "cell_type": "code",
   "execution_count": 0,
   "metadata": {
    "colab": {},
    "colab_type": "code",
    "id": "lp6zlgVWNX5m"
   },
   "outputs": [],
   "source": [
    "df=df.dropna()"
   ]
  },
  {
   "cell_type": "code",
   "execution_count": 0,
   "metadata": {
    "colab": {},
    "colab_type": "code",
    "id": "9kVdHqHvNal0"
   },
   "outputs": [],
   "source": [
    "df=df.reset_index()"
   ]
  },
  {
   "cell_type": "code",
   "execution_count": 0,
   "metadata": {
    "colab": {},
    "colab_type": "code",
    "id": "U_ZLeaUmvrDX"
   },
   "outputs": [],
   "source": [
    "df['Zone']=df['Zone'].apply(lambda x: x.lower())"
   ]
  },
  {
   "cell_type": "code",
   "execution_count": 0,
   "metadata": {
    "colab": {},
    "colab_type": "code",
    "id": "-DwZMqFUNc5B"
   },
   "outputs": [],
   "source": [
    "company_data=df"
   ]
  },
  {
   "cell_type": "code",
   "execution_count": 0,
   "metadata": {
    "colab": {},
    "colab_type": "code",
    "id": "3UVdRRXLNhk_"
   },
   "outputs": [],
   "source": [
    "eng_score=list(df['Engagement Score (% Satisfaction)'])\n",
    "satisfaction=[]\n",
    "for x in eng_score:\n",
    "  satisfaction.append(int(x[:-1]))\n",
    "df['satisfaction']=pd.Series(satisfaction)"
   ]
  },
  {
   "cell_type": "code",
   "execution_count": 0,
   "metadata": {
    "colab": {},
    "colab_type": "code",
    "id": "pJOiGIIkX7aD"
   },
   "outputs": [],
   "source": [
    "grade=df['Grade']"
   ]
  },
  {
   "cell_type": "code",
   "execution_count": 0,
   "metadata": {
    "colab": {},
    "colab_type": "code",
    "id": "e7EqivdcNkK1"
   },
   "outputs": [],
   "source": [
    "from sklearn.preprocessing import LabelEncoder\n",
    "le=LabelEncoder()\n",
    "le.fit(df['Grade'])\n",
    "df['Grade']=pd.Series(le.transform(df['Grade']))\n",
    "le=LabelEncoder()\n",
    "le.fit(df['Location'])\n",
    "df['Location']=pd.Series(le.transform(df['Location']))\n",
    "le=LabelEncoder()\n",
    "le.fit(df['Gender'])\n",
    "df['Gender']=pd.Series(le.transform(df['Gender']))\n",
    "le=LabelEncoder()\n",
    "le.fit(df['Marital Status'])\n",
    "df['Marital Status']=pd.Series(le.transform(df['Marital Status']))\n",
    "le=LabelEncoder()\n",
    "le.fit(df['Zone'])\n",
    "df['Zone']=pd.Series(le.transform(df['Zone']))\n",
    "le=LabelEncoder()\n",
    "le.fit(df['Education'])\n",
    "df['Education']=pd.Series(le.transform(df['Education']))\n",
    "le=LabelEncoder()\n",
    "le.fit(df['Remarks'])\n",
    "df['Remarks']=pd.Series(le.transform(df['Remarks']))"
   ]
  },
  {
   "cell_type": "code",
   "execution_count": 0,
   "metadata": {
    "colab": {},
    "colab_type": "code",
    "id": "4gHqKSY1QpTn"
   },
   "outputs": [],
   "source": [
    "income_list=list(df['Monthly Income'])\n",
    "designation_list=list(grade)\n",
    "income_percent=[]\n",
    "for i in range(len(income_list)):\n",
    "  income=income_list[i]\n",
    "  designation=designation_list[i]\n",
    "  if(designation=='E1'):\n",
    "    min_=25000\n",
    "    max_=27000\n",
    "    income=(income-min_)/(max_-min_)\n",
    "  if(designation=='E2'):\n",
    "    min_=30000\n",
    "    max_=40000\n",
    "    income=(income-min_)/(max_-min_)\n",
    "  if(designation=='M1'):\n",
    "    min_=50000\n",
    "    max_=55000\n",
    "    income=(income-min_)/(max_-min_)\n",
    "  if(designation=='M2'):\n",
    "    min_=52000\n",
    "    max_=57000\n",
    "    income=(income-min_)/(max_-min_)\n",
    "  if(designation=='M3'):\n",
    "    min_=53000\n",
    "    max_=60000\n",
    "    income=(income-min_)/(max_-min_)\n",
    "  if(designation=='M4'):\n",
    "    min_=54000\n",
    "    max_=100000\n",
    "    income=(income-min_)/(max_-min_)\n",
    "  if(designation=='CXO'):\n",
    "    min_=150000\n",
    "    max_=300000\n",
    "    income=(income-min_)/(max_-min_)\n",
    "  income_percent.append(income)"
   ]
  },
  {
   "cell_type": "code",
   "execution_count": 0,
   "metadata": {
    "colab": {},
    "colab_type": "code",
    "id": "JnbA3sA5XHTz"
   },
   "outputs": [],
   "source": [
    "income_percent"
   ]
  },
  {
   "cell_type": "code",
   "execution_count": 0,
   "metadata": {
    "colab": {},
    "colab_type": "code",
    "id": "jbzziXmLNqxJ"
   },
   "outputs": [],
   "source": [
    "df.drop(['index','S.No','EmpID','Emp Name','DOJ','Designation','Attrition ','Engagement Score (% Satisfaction)','In Active Date','Remarks'],axis=1,inplace=True)"
   ]
  },
  {
   "cell_type": "code",
   "execution_count": 0,
   "metadata": {
    "colab": {
     "base_uri": "https://localhost:8080/",
     "height": 204
    },
    "colab_type": "code",
    "id": "pPpZKd7zNuo-",
    "outputId": "b9775b99-703d-4b7c-ebe8-08bbeb91ac4a"
   },
   "outputs": [
    {
     "data": {
      "text/html": [
       "<div>\n",
       "<style scoped>\n",
       "    .dataframe tbody tr th:only-of-type {\n",
       "        vertical-align: middle;\n",
       "    }\n",
       "\n",
       "    .dataframe tbody tr th {\n",
       "        vertical-align: top;\n",
       "    }\n",
       "\n",
       "    .dataframe thead th {\n",
       "        text-align: right;\n",
       "    }\n",
       "</style>\n",
       "<table border=\"1\" class=\"dataframe\">\n",
       "  <thead>\n",
       "    <tr style=\"text-align: right;\">\n",
       "      <th></th>\n",
       "      <th>Grade</th>\n",
       "      <th>Location</th>\n",
       "      <th>Tenure</th>\n",
       "      <th>Gender</th>\n",
       "      <th>Education</th>\n",
       "      <th>Age</th>\n",
       "      <th>Last Rating</th>\n",
       "      <th>Monthly Income</th>\n",
       "      <th>Marital Status</th>\n",
       "      <th>Zone</th>\n",
       "      <th>satisfaction</th>\n",
       "    </tr>\n",
       "  </thead>\n",
       "  <tbody>\n",
       "    <tr>\n",
       "      <th>0</th>\n",
       "      <td>1</td>\n",
       "      <td>25</td>\n",
       "      <td>1. 6</td>\n",
       "      <td>0</td>\n",
       "      <td>0</td>\n",
       "      <td>27</td>\n",
       "      <td>4</td>\n",
       "      <td>25535</td>\n",
       "      <td>0</td>\n",
       "      <td>5</td>\n",
       "      <td>2</td>\n",
       "    </tr>\n",
       "    <tr>\n",
       "      <th>1</th>\n",
       "      <td>4</td>\n",
       "      <td>64</td>\n",
       "      <td>1. 9</td>\n",
       "      <td>1</td>\n",
       "      <td>1</td>\n",
       "      <td>36</td>\n",
       "      <td>2</td>\n",
       "      <td>52155</td>\n",
       "      <td>2</td>\n",
       "      <td>4</td>\n",
       "      <td>45</td>\n",
       "    </tr>\n",
       "    <tr>\n",
       "      <th>2</th>\n",
       "      <td>1</td>\n",
       "      <td>55</td>\n",
       "      <td>1. 5</td>\n",
       "      <td>1</td>\n",
       "      <td>0</td>\n",
       "      <td>24</td>\n",
       "      <td>4</td>\n",
       "      <td>26438</td>\n",
       "      <td>0</td>\n",
       "      <td>0</td>\n",
       "      <td>18</td>\n",
       "    </tr>\n",
       "    <tr>\n",
       "      <th>3</th>\n",
       "      <td>3</td>\n",
       "      <td>1</td>\n",
       "      <td>3 .11</td>\n",
       "      <td>1</td>\n",
       "      <td>0</td>\n",
       "      <td>33</td>\n",
       "      <td>2</td>\n",
       "      <td>54311</td>\n",
       "      <td>2</td>\n",
       "      <td>5</td>\n",
       "      <td>82</td>\n",
       "    </tr>\n",
       "    <tr>\n",
       "      <th>4</th>\n",
       "      <td>1</td>\n",
       "      <td>59</td>\n",
       "      <td>2 .1</td>\n",
       "      <td>1</td>\n",
       "      <td>0</td>\n",
       "      <td>24</td>\n",
       "      <td>4</td>\n",
       "      <td>26702</td>\n",
       "      <td>0</td>\n",
       "      <td>3</td>\n",
       "      <td>49</td>\n",
       "    </tr>\n",
       "  </tbody>\n",
       "</table>\n",
       "</div>"
      ],
      "text/plain": [
       "   Grade  Location  Tenure  ...  Marital Status  Zone  satisfaction\n",
       "0      1        25   1. 6   ...               0     5             2\n",
       "1      4        64   1. 9   ...               2     4            45\n",
       "2      1        55   1. 5   ...               0     0            18\n",
       "3      3         1  3 .11   ...               2     5            82\n",
       "4      1        59   2 .1   ...               0     3            49\n",
       "\n",
       "[5 rows x 11 columns]"
      ]
     },
     "execution_count": 15,
     "metadata": {
      "tags": []
     },
     "output_type": "execute_result"
    }
   ],
   "source": [
    "#df=df.drop('Location',axis=1)\n",
    "df.head()"
   ]
  },
  {
   "cell_type": "code",
   "execution_count": 0,
   "metadata": {
    "colab": {},
    "colab_type": "code",
    "id": "2LZ9n2A0NxPZ"
   },
   "outputs": [],
   "source": [
    "import re\n",
    "df['Tenure']=df['Tenure'].apply(lambda x: float(re.sub(r\" \", \"\", x)))"
   ]
  },
  {
   "cell_type": "code",
   "execution_count": 0,
   "metadata": {
    "colab": {
     "base_uri": "https://localhost:8080/",
     "height": 204
    },
    "colab_type": "code",
    "id": "SwPt15lmN3r3",
    "outputId": "bc1143d5-0a75-4999-c8aa-622b4cd5873c"
   },
   "outputs": [
    {
     "data": {
      "text/html": [
       "<div>\n",
       "<style scoped>\n",
       "    .dataframe tbody tr th:only-of-type {\n",
       "        vertical-align: middle;\n",
       "    }\n",
       "\n",
       "    .dataframe tbody tr th {\n",
       "        vertical-align: top;\n",
       "    }\n",
       "\n",
       "    .dataframe thead th {\n",
       "        text-align: right;\n",
       "    }\n",
       "</style>\n",
       "<table border=\"1\" class=\"dataframe\">\n",
       "  <thead>\n",
       "    <tr style=\"text-align: right;\">\n",
       "      <th></th>\n",
       "      <th>Monthly Income</th>\n",
       "      <th>satisfaction</th>\n",
       "    </tr>\n",
       "  </thead>\n",
       "  <tbody>\n",
       "    <tr>\n",
       "      <th>0</th>\n",
       "      <td>0.2675</td>\n",
       "      <td>2</td>\n",
       "    </tr>\n",
       "    <tr>\n",
       "      <th>1</th>\n",
       "      <td>0.0310</td>\n",
       "      <td>45</td>\n",
       "    </tr>\n",
       "    <tr>\n",
       "      <th>2</th>\n",
       "      <td>0.7190</td>\n",
       "      <td>18</td>\n",
       "    </tr>\n",
       "    <tr>\n",
       "      <th>3</th>\n",
       "      <td>0.8622</td>\n",
       "      <td>82</td>\n",
       "    </tr>\n",
       "    <tr>\n",
       "      <th>4</th>\n",
       "      <td>0.8510</td>\n",
       "      <td>49</td>\n",
       "    </tr>\n",
       "  </tbody>\n",
       "</table>\n",
       "</div>"
      ],
      "text/plain": [
       "   Monthly Income  satisfaction\n",
       "0          0.2675             2\n",
       "1          0.0310            45\n",
       "2          0.7190            18\n",
       "3          0.8622            82\n",
       "4          0.8510            49"
      ]
     },
     "execution_count": 120,
     "metadata": {
      "tags": []
     },
     "output_type": "execute_result"
    }
   ],
   "source": [
    "df_new=pd.DataFrame()\n",
    "df_new['Monthly Income']=df['Monthly Income']\n",
    "df_new['satisfaction']=df['satisfaction']\n",
    "df_new.head()"
   ]
  },
  {
   "cell_type": "code",
   "execution_count": 0,
   "metadata": {
    "colab": {
     "base_uri": "https://localhost:8080/",
     "height": 759
    },
    "colab_type": "code",
    "id": "DnBxISICODEL",
    "outputId": "6be4f5bd-f9f9-4d48-f98f-e307458da6fc"
   },
   "outputs": [
    {
     "name": "stdout",
     "output_type": "stream",
     "text": [
      "[t-SNE] Computing 121 nearest neighbors...\n",
      "[t-SNE] Indexed 325 samples in 0.005s...\n",
      "[t-SNE] Computed neighbors for 325 samples in 0.008s...\n",
      "[t-SNE] Computed conditional probabilities for sample 325 / 325\n",
      "[t-SNE] Mean sigma: 33.059194\n",
      "[t-SNE] KL divergence after 250 iterations with early exaggeration: 50.344143\n",
      "[t-SNE] KL divergence after 300 iterations: 0.142229\n",
      "t-SNE done! Time elapsed: 0.6723079681396484 seconds\n"
     ]
    },
    {
     "data": {
      "text/plain": [
       "<matplotlib.axes._subplots.AxesSubplot at 0x7f0d7b542518>"
      ]
     },
     "execution_count": 17,
     "metadata": {
      "tags": []
     },
     "output_type": "execute_result"
    },
    {
     "data": {
      "image/png": "[encoded data removed]",
      "text/plain": [
       "<Figure size 1152x720 with 1 Axes>"
      ]
     },
     "metadata": {
      "tags": []
     },
     "output_type": "display_data"
    }
   ],
   "source": [
    "from sklearn.manifold import TSNE\n",
    "import time\n",
    "time_start = time.time()\n",
    "tsne = TSNE(n_components=2, verbose=1, perplexity=40, n_iter=300)\n",
    "tsne_results = tsne.fit_transform(df)\n",
    "print('t-SNE done! Time elapsed: {} seconds'.format(time.time()-time_start))\n",
    "import seaborn as sns\n",
    "import matplotlib.pyplot as plt\n",
    "df_subset=pd.DataFrame()\n",
    "df_subset['tsne-2d-one'] = tsne_results[:,0]\n",
    "df_subset['tsne-2d-two'] = tsne_results[:,1]\n",
    "plt.figure(figsize=(16,10))\n",
    "sns.scatterplot(\n",
    "    x=\"tsne-2d-one\", y=\"tsne-2d-two\",\n",
    "    palette=sns.color_palette(\"hls\", 10),\n",
    "    data=df_subset,\n",
    "    legend=\"full\",\n",
    "    alpha=0.3\n",
    ")"
   ]
  },
  {
   "cell_type": "code",
   "execution_count": 0,
   "metadata": {
    "colab": {
     "base_uri": "https://localhost:8080/",
     "height": 204
    },
    "colab_type": "code",
    "id": "2RD9C5bzOPMw",
    "outputId": "8fee7647-1c58-468e-f4e2-2cbdd06f6238"
   },
   "outputs": [
    {
     "data": {
      "text/html": [
       "<div>\n",
       "<style scoped>\n",
       "    .dataframe tbody tr th:only-of-type {\n",
       "        vertical-align: middle;\n",
       "    }\n",
       "\n",
       "    .dataframe tbody tr th {\n",
       "        vertical-align: top;\n",
       "    }\n",
       "\n",
       "    .dataframe thead th {\n",
       "        text-align: right;\n",
       "    }\n",
       "</style>\n",
       "<table border=\"1\" class=\"dataframe\">\n",
       "  <thead>\n",
       "    <tr style=\"text-align: right;\">\n",
       "      <th></th>\n",
       "      <th>tsne-2d-one</th>\n",
       "      <th>tsne-2d-two</th>\n",
       "    </tr>\n",
       "  </thead>\n",
       "  <tbody>\n",
       "    <tr>\n",
       "      <th>0</th>\n",
       "      <td>-7.159697</td>\n",
       "      <td>-8.854364</td>\n",
       "    </tr>\n",
       "    <tr>\n",
       "      <th>1</th>\n",
       "      <td>-7.413728</td>\n",
       "      <td>10.929404</td>\n",
       "    </tr>\n",
       "    <tr>\n",
       "      <th>2</th>\n",
       "      <td>5.431224</td>\n",
       "      <td>0.835833</td>\n",
       "    </tr>\n",
       "    <tr>\n",
       "      <th>3</th>\n",
       "      <td>-5.332818</td>\n",
       "      <td>10.425863</td>\n",
       "    </tr>\n",
       "    <tr>\n",
       "      <th>4</th>\n",
       "      <td>10.124036</td>\n",
       "      <td>1.896241</td>\n",
       "    </tr>\n",
       "  </tbody>\n",
       "</table>\n",
       "</div>"
      ],
      "text/plain": [
       "   tsne-2d-one  tsne-2d-two\n",
       "0    -7.159697    -8.854364\n",
       "1    -7.413728    10.929404\n",
       "2     5.431224     0.835833\n",
       "3    -5.332818    10.425863\n",
       "4    10.124036     1.896241"
      ]
     },
     "execution_count": 43,
     "metadata": {
      "tags": []
     },
     "output_type": "execute_result"
    }
   ],
   "source": [
    "df_subset.head()"
   ]
  },
  {
   "cell_type": "code",
   "execution_count": 0,
   "metadata": {
    "colab": {},
    "colab_type": "code",
    "id": "heaydRz_O9bp"
   },
   "outputs": [],
   "source": [
    "from sklearn.preprocessing import  RobustScaler\n",
    "rbs = RobustScaler()\n",
    "df2 = rbs.fit_transform(df_subset)\n",
    "\n",
    "km1 = KMeans(n_clusters=3)\n",
    "km2 = km1.fit(df2)\n",
    "label = km2.predict(df2)"
   ]
  },
  {
   "cell_type": "code",
   "execution_count": 0,
   "metadata": {
    "colab": {},
    "colab_type": "code",
    "id": "j1DJ6MvzPM7u"
   },
   "outputs": [],
   "source": [
    "df_subset['Label']=label"
   ]
  },
  {
   "cell_type": "code",
   "execution_count": 0,
   "metadata": {
    "colab": {},
    "colab_type": "code",
    "id": "3vBDfoxhPRk6"
   },
   "outputs": [],
   "source": [
    "df_cluster0 = df_subset[df_subset['Label']==0]\n",
    "df_cluster1 = df_subset[df_subset['Label']==1]\n",
    "df_cluster2 = df_subset[df_subset['Label']==2]"
   ]
  },
  {
   "cell_type": "code",
   "execution_count": 0,
   "metadata": {
    "colab": {
     "base_uri": "https://localhost:8080/",
     "height": 623
    },
    "colab_type": "code",
    "id": "RG-cBcQxPj_J",
    "outputId": "fb95767d-4803-4d11-f837-e70c05ff0a1d"
   },
   "outputs": [
    {
     "data": {
      "text/plain": [
       "<matplotlib.axes._subplots.AxesSubplot at 0x7f0d752a3f98>"
      ]
     },
     "execution_count": 145,
     "metadata": {
      "tags": []
     },
     "output_type": "execute_result"
    },
    {
     "data": {
      "image/png": "[encoded data removed]",
      "text/plain": [
       "<Figure size 1152x720 with 1 Axes>"
      ]
     },
     "metadata": {
      "tags": []
     },
     "output_type": "display_data"
    }
   ],
   "source": [
    "import seaborn as sns\n",
    "import matplotlib.pyplot as plt\n",
    "plt.figure(figsize=(16,10))\n",
    "cmap = sns.cubehelix_palette(dark=.9, light=.2, as_cmap=True)\n",
    "sns.scatterplot(\n",
    "    x=\"tsne-2d-one\", y=\"tsne-2d-two\",\n",
    "    palette=sns.color_palette(\"hls\", 10),\n",
    "    color='blue',\n",
    "    data=df_cluster0,\n",
    "    legend=\"full\",\n",
    " \n",
    ")\n",
    "sns.scatterplot(\n",
    "    x=\"tsne-2d-one\", y=\"tsne-2d-two\",\n",
    "    palette=\"deep\",\n",
    "    color='blue',\n",
    "    data=df_cluster1,\n",
    "    legend=\"full\",\n",
    "\n",
    ")\n",
    "sns.scatterplot(\n",
    "    x=\"tsne-2d-one\", y=\"tsne-2d-two\",\n",
    "    palette=\"deep\",\n",
    "    data=df_cluster2,\n",
    "    legend=\"full\",\n",
    "    color=\"red\",\n",
    "    sizes=(20,100),\n",
    "\n",
    ")"
   ]
  },
  {
   "cell_type": "code",
   "execution_count": 0,
   "metadata": {
    "colab": {},
    "colab_type": "code",
    "id": "qQ8nWw2zQWHE"
   },
   "outputs": [],
   "source": [
    "dx=pd.read_csv('/content/drive/My Drive/InterIIT/Data.csv')\n",
    "dx=dx.dropna().reset_index()\n",
    "dx['Label']=label"
   ]
  },
  {
   "cell_type": "code",
   "execution_count": 0,
   "metadata": {
    "colab": {
     "base_uri": "https://localhost:8080/",
     "height": 102
    },
    "colab_type": "code",
    "id": "kIDdcmvWYj5Y",
    "outputId": "5bb70c89-b6ad-4e6a-ebd5-ae5ab890d1f5"
   },
   "outputs": [
    {
     "name": "stderr",
     "output_type": "stream",
     "text": [
      "/usr/local/lib/python3.6/dist-packages/ipykernel_launcher.py:3: SettingWithCopyWarning: \n",
      "A value is trying to be set on a copy of a slice from a DataFrame\n",
      "\n",
      "See the caveats in the documentation: http://pandas.pydata.org/pandas-docs/stable/user_guide/indexing.html#returning-a-view-versus-a-copy\n",
      "  This is separate from the ipykernel package so we can avoid doing imports until\n"
     ]
    }
   ],
   "source": [
    "for i in range(0,dx.shape[0]):\n",
    "    if(dx['Remarks'][i] == 'Termination - Poor Performance' or dx['Remarks'][i] == 'Termination - Theft' or dx['Remarks'][i] == 'Absconding' or dx['Remarks'][i] == 'Health Reasons'):\n",
    "        dx['Remarks'][i] = 'Involuntary'"
   ]
  },
  {
   "cell_type": "code",
   "execution_count": 0,
   "metadata": {
    "colab": {
     "base_uri": "https://localhost:8080/",
     "height": 102
    },
    "colab_type": "code",
    "id": "XDudL26GGnUD",
    "outputId": "5b1fb1d9-8a5e-4079-a810-ad667bfc1fcd"
   },
   "outputs": [
    {
     "name": "stderr",
     "output_type": "stream",
     "text": [
      "/usr/local/lib/python3.6/dist-packages/ipykernel_launcher.py:4: SettingWithCopyWarning: \n",
      "A value is trying to be set on a copy of a slice from a DataFrame\n",
      "\n",
      "See the caveats in the documentation: http://pandas.pydata.org/pandas-docs/stable/user_guide/indexing.html#returning-a-view-versus-a-copy\n",
      "  after removing the cwd from sys.path.\n"
     ]
    }
   ],
   "source": [
    "x=dx[dx['Label']==2].reset_index()\n",
    "for i in range(0,x.shape[0]):\n",
    "    if(x['Remarks'][i] == 'Termination - Poor Performance' or x['Remarks'][i] == 'Termination - Theft' or x['Remarks'][i] == 'Absconding' or x['Remarks'][i] == 'Health Reasons'):\n",
    "        x['Remarks'][i] = 'Others'"
   ]
  },
  {
   "cell_type": "code",
   "execution_count": 0,
   "metadata": {
    "colab": {
     "base_uri": "https://localhost:8080/",
     "height": 282
    },
    "colab_type": "code",
    "id": "qOVdNiijRGxM",
    "outputId": "2cac9903-e2d4-4a78-ae65-3ac22e445896"
   },
   "outputs": [
    {
     "data": {
      "text/plain": [
       "<matplotlib.axes._subplots.AxesSubplot at 0x7f0d75aa64e0>"
      ]
     },
     "execution_count": 102,
     "metadata": {
      "tags": []
     },
     "output_type": "execute_result"
    },
    {
     "data": {
      "image/png": "[encoded data removed]",
      "text/plain": [
       "<Figure size 432x288 with 1 Axes>"
      ]
     },
     "metadata": {
      "tags": []
     },
     "output_type": "display_data"
    }
   ],
   "source": [
    "x=x.Remarks.value_counts().reset_index()\n",
    "import matplotlib.pyplot as plt\n",
    "x.plot.barh(x='index', y='Remarks')"
   ]
  },
  {
   "cell_type": "code",
   "execution_count": 0,
   "metadata": {
    "colab": {},
    "colab_type": "code",
    "id": "yVYU7E3AIfOp"
   },
   "outputs": [],
   "source": [
    "x=pd.DataFrame()\n",
    "x['index']=np.array(['More Challenging Job Roles/ Higher designation', 'Lack of Growth',\n",
    "       'Better Salary', 'Issues with the Manager', 'Others'], dtype=object)"
   ]
  },
  {
   "cell_type": "code",
   "execution_count": 0,
   "metadata": {
    "colab": {},
    "colab_type": "code",
    "id": "wFNARKhFJk9_"
   },
   "outputs": [],
   "source": [
    "x['Remarks']=np.array([28, 20,  4,  2,  4])"
   ]
  },
  {
   "cell_type": "code",
   "execution_count": 0,
   "metadata": {
    "colab": {},
    "colab_type": "code",
    "id": "9I103kAdKdYo"
   },
   "outputs": [],
   "source": [
    "x['Reasons for Attrition']=x['index']\n",
    "x['Count']=x['Remarks']"
   ]
  },
  {
   "cell_type": "code",
   "execution_count": 0,
   "metadata": {
    "colab": {
     "base_uri": "https://localhost:8080/",
     "height": 282
    },
    "colab_type": "code",
    "id": "MFg3BUizKGbM",
    "outputId": "520d9e8c-484e-4799-f9b8-cdf568815812"
   },
   "outputs": [
    {
     "data": {
      "text/plain": [
       "<matplotlib.axes._subplots.AxesSubplot at 0x7f0d759b52e8>"
      ]
     },
     "execution_count": 126,
     "metadata": {
      "tags": []
     },
     "output_type": "execute_result"
    },
    {
     "data": {
      "image/png": "[encoded data removed]",
      "text/plain": [
       "<Figure size 432x288 with 1 Axes>"
      ]
     },
     "metadata": {
      "tags": []
     },
     "output_type": "display_data"
    }
   ],
   "source": [
    "x.plot.barh(x='Reasons for Attrition', y='Count')"
   ]
  },
  {
   "cell_type": "code",
   "execution_count": 0,
   "metadata": {
    "colab": {},
    "colab_type": "code",
    "id": "58tqdiMWDT1L"
   },
   "outputs": [],
   "source": [
    "cluster_2remark=x['index'].unique()"
   ]
  },
  {
   "cell_type": "code",
   "execution_count": 0,
   "metadata": {
    "colab": {
     "base_uri": "https://localhost:8080/",
     "height": 102
    },
    "colab_type": "code",
    "id": "Z2Sw5gA9Hn8O",
    "outputId": "df35bafc-1bc0-4f93-9400-2f231fd51ebc"
   },
   "outputs": [
    {
     "name": "stderr",
     "output_type": "stream",
     "text": [
      "/usr/local/lib/python3.6/dist-packages/ipykernel_launcher.py:4: SettingWithCopyWarning: \n",
      "A value is trying to be set on a copy of a slice from a DataFrame\n",
      "\n",
      "See the caveats in the documentation: http://pandas.pydata.org/pandas-docs/stable/user_guide/indexing.html#returning-a-view-versus-a-copy\n",
      "  after removing the cwd from sys.path.\n"
     ]
    }
   ],
   "source": [
    "x=dx[dx['Label']!=2].reset_index()\n",
    "for i in range(0,x.shape[0]):\n",
    "    if(x['Remarks'][i] == 'Termination - Poor Performance' or x['Remarks'][i] == 'Termination - Theft' or x['Remarks'][i] == 'Absconding' or x['Remarks'][i] == 'Health Reasons' or x['Remarks'][i] == 'Higher education' or x['Remarks'][i] == 'Reasons not known'):\n",
    "        x['Remarks'][i] = 'Others'"
   ]
  },
  {
   "cell_type": "code",
   "execution_count": 0,
   "metadata": {
    "colab": {
     "base_uri": "https://localhost:8080/",
     "height": 282
    },
    "colab_type": "code",
    "id": "5KRQsucqB3Uy",
    "outputId": "c34176f2-0a91-4953-b938-0c6bbbed3f36"
   },
   "outputs": [
    {
     "data": {
      "text/plain": [
       "<matplotlib.axes._subplots.AxesSubplot at 0x7f0d7585f0f0>"
      ]
     },
     "execution_count": 129,
     "metadata": {
      "tags": []
     },
     "output_type": "execute_result"
    },
    {
     "data": {
      "image/png": "[encoded data removed]",
      "text/plain": [
       "<Figure size 432x288 with 1 Axes>"
      ]
     },
     "metadata": {
      "tags": []
     },
     "output_type": "display_data"
    }
   ],
   "source": [
    "x=x.Remarks.value_counts().reset_index()\n",
    "import matplotlib.pyplot as plt\n",
    "x.plot.barh(x='index', y='Remarks')"
   ]
  },
  {
   "cell_type": "code",
   "execution_count": 0,
   "metadata": {
    "colab": {
     "base_uri": "https://localhost:8080/",
     "height": 204
    },
    "colab_type": "code",
    "id": "7cbr4KY3Duu8",
    "outputId": "e7f26bcb-f1b4-475e-bb2d-31fe93a2d389"
   },
   "outputs": [
    {
     "data": {
      "text/html": [
       "<div>\n",
       "<style scoped>\n",
       "    .dataframe tbody tr th:only-of-type {\n",
       "        vertical-align: middle;\n",
       "    }\n",
       "\n",
       "    .dataframe tbody tr th {\n",
       "        vertical-align: top;\n",
       "    }\n",
       "\n",
       "    .dataframe thead th {\n",
       "        text-align: right;\n",
       "    }\n",
       "</style>\n",
       "<table border=\"1\" class=\"dataframe\">\n",
       "  <thead>\n",
       "    <tr style=\"text-align: right;\">\n",
       "      <th></th>\n",
       "      <th>Reasons for Attrition</th>\n",
       "      <th>Count</th>\n",
       "    </tr>\n",
       "  </thead>\n",
       "  <tbody>\n",
       "    <tr>\n",
       "      <th>0</th>\n",
       "      <td>More Challenging Job Roles/ Higher designation</td>\n",
       "      <td>3</td>\n",
       "    </tr>\n",
       "    <tr>\n",
       "      <th>1</th>\n",
       "      <td>Lack of Growth</td>\n",
       "      <td>76</td>\n",
       "    </tr>\n",
       "    <tr>\n",
       "      <th>2</th>\n",
       "      <td>Better Salary</td>\n",
       "      <td>15</td>\n",
       "    </tr>\n",
       "    <tr>\n",
       "      <th>3</th>\n",
       "      <td>Issues with the Manager</td>\n",
       "      <td>141</td>\n",
       "    </tr>\n",
       "    <tr>\n",
       "      <th>4</th>\n",
       "      <td>Others</td>\n",
       "      <td>32</td>\n",
       "    </tr>\n",
       "  </tbody>\n",
       "</table>\n",
       "</div>"
      ],
      "text/plain": [
       "                            Reasons for Attrition  Count\n",
       "0  More Challenging Job Roles/ Higher designation      3\n",
       "1                                  Lack of Growth     76\n",
       "2                                   Better Salary     15\n",
       "3                         Issues with the Manager    141\n",
       "4                                          Others     32"
      ]
     },
     "execution_count": 130,
     "metadata": {
      "tags": []
     },
     "output_type": "execute_result"
    }
   ],
   "source": [
    "remark_name=[]\n",
    "remark_count=[]\n",
    "for i in cluster_2remark:\n",
    "  remark_name.append(i)\n",
    "  remark_count.append(np.array(x[x['index']==i]['Remarks'])[0])\n",
    "s=pd.DataFrame()\n",
    "s['Reasons for Attrition']=remark_name\n",
    "s['Count']=remark_count\n",
    "s"
   ]
  },
  {
   "cell_type": "code",
   "execution_count": 0,
   "metadata": {
    "colab": {
     "base_uri": "https://localhost:8080/",
     "height": 282
    },
    "colab_type": "code",
    "id": "vY1pnSyXF3ie",
    "outputId": "ad84ef59-ab0c-4ec1-ec7f-dfd0e33fd277"
   },
   "outputs": [
    {
     "data": {
      "text/plain": [
       "<matplotlib.axes._subplots.AxesSubplot at 0x7f0d7585f940>"
      ]
     },
     "execution_count": 132,
     "metadata": {
      "tags": []
     },
     "output_type": "execute_result"
    },
    {
     "data": {
      "image/png": "[encoded data removed]",
      "text/plain": [
       "<Figure size 432x288 with 1 Axes>"
      ]
     },
     "metadata": {
      "tags": []
     },
     "output_type": "display_data"
    }
   ],
   "source": [
    "s.plot.barh(x='Reasons for Attrition', y='Count')"
   ]
  },
  {
   "cell_type": "code",
   "execution_count": 0,
   "metadata": {
    "colab": {},
    "colab_type": "code",
    "id": "6mB83SHBCYkj"
   },
   "outputs": [],
   "source": [
    "dx[dx['Label']==0]"
   ]
  },
  {
   "cell_type": "code",
   "execution_count": 0,
   "metadata": {
    "colab": {
     "base_uri": "https://localhost:8080/",
     "height": 85
    },
    "colab_type": "code",
    "id": "csccVBSHUIQN",
    "outputId": "232896e0-9f93-4a4e-f03a-63a23c6e5922"
   },
   "outputs": [
    {
     "data": {
      "text/plain": [
       "Sales Executive     111\n",
       "Sales Executive      19\n",
       " Sales Executive      5\n",
       "Name: Designation, dtype: int64"
      ]
     },
     "execution_count": 37,
     "metadata": {
      "tags": []
     },
     "output_type": "execute_result"
    }
   ],
   "source": [
    "dx[dx['Label']==0].Designation.value_counts()"
   ]
  },
  {
   "cell_type": "code",
   "execution_count": 0,
   "metadata": {
    "colab": {},
    "colab_type": "code",
    "id": "iYoVyuh4ahLr"
   },
   "outputs": [],
   "source": [
    "dx['satisfaction']=pd.Series(satisfaction)\n",
    "new_df=dx[dx['Label']==1]\n",
    "plt.figure(figsize=(16,10))\n",
    "sns.scatterplot(\n",
    "    x=\"Last Rating\", y=\"satisfaction\",\n",
    "    palette=sns.color_palette(\"hls\", 10),\n",
    "    color='black',\n",
    "    data=new_df,\n",
    "    legend=\"full\",\n",
    "    alpha=0.3\n",
    ")"
   ]
  },
  {
   "cell_type": "code",
   "execution_count": 0,
   "metadata": {
    "colab": {},
    "colab_type": "code",
    "id": "TfRmP-08RbXD"
   },
   "outputs": [],
   "source": [
    "income_percent"
   ]
  },
  {
   "cell_type": "code",
   "execution_count": 0,
   "metadata": {
    "colab": {},
    "colab_type": "code",
    "id": "ygfUvkQnRlQW"
   },
   "outputs": [],
   "source": [
    "income_per=pd.cut(np.array(income_percent),3, labels=[\"bad\", \"medium\", \"good\"])"
   ]
  },
  {
   "cell_type": "code",
   "execution_count": 0,
   "metadata": {
    "colab": {
     "base_uri": "https://localhost:8080/",
     "height": 238
    },
    "colab_type": "code",
    "id": "Hp6u_mQoSx2M",
    "outputId": "168e1580-89f8-4175-8312-c495b89612d6"
   },
   "outputs": [
    {
     "data": {
      "text/plain": [
       "0         bad\n",
       "1         bad\n",
       "2        good\n",
       "3        good\n",
       "4        good\n",
       "        ...  \n",
       "320      good\n",
       "321    medium\n",
       "322    medium\n",
       "323    medium\n",
       "324      good\n",
       "Length: 325, dtype: category\n",
       "Categories (3, object): [bad < medium < good]"
      ]
     },
     "execution_count": 101,
     "metadata": {
      "tags": []
     },
     "output_type": "execute_result"
    }
   ],
   "source": [
    "pd.Series(income_per)"
   ]
  },
  {
   "cell_type": "code",
   "execution_count": 0,
   "metadata": {
    "colab": {},
    "colab_type": "code",
    "id": "oFp62LZCSzE6"
   },
   "outputs": [],
   "source": [
    "df_subset['income_per']=income_per\n",
    "df_0 = df_subset[df_subset['income_per']=='bad']\n",
    "df_1 = df_subset[df_subset['income_per']=='medium']\n",
    "df_2 = df_subset[df_subset['income_per']=='good']"
   ]
  },
  {
   "cell_type": "code",
   "execution_count": 0,
   "metadata": {
    "colab": {
     "base_uri": "https://localhost:8080/",
     "height": 623
    },
    "colab_type": "code",
    "id": "zDT-tZwVTzqq",
    "outputId": "86ce968d-bb63-4369-c7dc-b92a293e6f57"
   },
   "outputs": [
    {
     "data": {
      "text/plain": [
       "<matplotlib.axes._subplots.AxesSubplot at 0x7f5769880cc0>"
      ]
     },
     "execution_count": 103,
     "metadata": {
      "tags": []
     },
     "output_type": "execute_result"
    },
    {
     "data": {
      "image/png": "[encoded data removed]",
      "text/plain": [
       "<Figure size 1152x720 with 1 Axes>"
      ]
     },
     "metadata": {
      "tags": []
     },
     "output_type": "display_data"
    }
   ],
   "source": [
    "import seaborn as sns\n",
    "import matplotlib.pyplot as plt\n",
    "plt.figure(figsize=(16,10))\n",
    "sns.scatterplot(\n",
    "    x=\"tsne-2d-one\", y=\"tsne-2d-two\",\n",
    "    palette=sns.color_palette(\"hls\", 10),\n",
    "    color='red',\n",
    "    data=df_0,\n",
    "    legend=\"full\",\n",
    "    alpha=0.3\n",
    ")\n",
    "sns.scatterplot(\n",
    "    x=\"tsne-2d-one\", y=\"tsne-2d-two\",\n",
    "    palette=sns.color_palette(\"hls\", 10),\n",
    "    color='blue',\n",
    "    data=df_1,\n",
    "    legend=\"full\",\n",
    "    alpha=0.3\n",
    ")\n",
    "sns.scatterplot(\n",
    "    x=\"tsne-2d-one\", y=\"tsne-2d-two\",\n",
    "    palette=sns.color_palette(\"hls\", 10),\n",
    "    color='black',\n",
    "    data=df_2,\n",
    "    legend=\"full\",\n",
    "    alpha=0.3\n",
    ")"
   ]
  },
  {
   "cell_type": "code",
   "execution_count": 0,
   "metadata": {
    "colab": {},
    "colab_type": "code",
    "id": "wEJRn7eJT7FT"
   },
   "outputs": [],
   "source": [
    "company_data['Label']=label\n",
    "company_data['income_per']=income_per\n",
    "company_data['satisfaction']=pd.Series(satisfaction)\n",
    "company_data['Last Rating']=df['Last Rating']"
   ]
  },
  {
   "cell_type": "code",
   "execution_count": 0,
   "metadata": {
    "colab": {},
    "colab_type": "code",
    "id": "L_tZmxjVT8CY"
   },
   "outputs": [],
   "source": [
    "company_data_cluster0=company_data[company_data['Label']==2]\n",
    "df_0 = company_data_cluster0[company_data_cluster0['income_per']=='bad']\n",
    "df_1 = company_data_cluster0[company_data_cluster0['income_per']=='medium']\n",
    "df_2 = company_data_cluster0[company_data_cluster0['income_per']=='good']"
   ]
  },
  {
   "cell_type": "code",
   "execution_count": 0,
   "metadata": {
    "colab": {
     "base_uri": "https://localhost:8080/",
     "height": 623
    },
    "colab_type": "code",
    "id": "Bjm31sFiVUPY",
    "outputId": "8e30d8f5-b9d4-422d-f957-2cc7c8034bf5"
   },
   "outputs": [
    {
     "data": {
      "text/plain": [
       "<matplotlib.axes._subplots.AxesSubplot at 0x7f57696bbf28>"
      ]
     },
     "execution_count": 106,
     "metadata": {
      "tags": []
     },
     "output_type": "execute_result"
    },
    {
     "data": {
      "image/png": "[encoded data removed]",
      "text/plain": [
       "<Figure size 1152x720 with 1 Axes>"
      ]
     },
     "metadata": {
      "tags": []
     },
     "output_type": "display_data"
    }
   ],
   "source": [
    "import seaborn as sns\n",
    "import matplotlib.pyplot as plt\n",
    "plt.figure(figsize=(16,10))\n",
    "sns.scatterplot(\n",
    "    x=\"Last Rating\", y=\"satisfaction\",\n",
    "    palette=sns.color_palette(\"hls\", 10),\n",
    "    color='red',\n",
    "    data=df_0,\n",
    "    legend=\"full\",\n",
    "    alpha=0.3\n",
    ")\n",
    "sns.scatterplot(\n",
    "    x=\"Last Rating\", y=\"satisfaction\",\n",
    "    palette=sns.color_palette(\"hls\", 10),\n",
    "    color='blue',\n",
    "    data=df_1,\n",
    "    legend=\"full\",\n",
    "    alpha=0.3\n",
    ")\n",
    "sns.scatterplot(\n",
    "    x=\"Last Rating\", y=\"satisfaction\",\n",
    "    palette=sns.color_palette(\"hls\", 10),\n",
    "    color='black',\n",
    "    data=df_2,\n",
    "    legend=\"full\",\n",
    "    alpha=0.3\n",
    ")"
   ]
  },
  {
   "cell_type": "code",
   "execution_count": 0,
   "metadata": {
    "colab": {},
    "colab_type": "code",
    "id": "elB26kCOWVAp"
   },
   "outputs": [],
   "source": [
    "df_new=pd.DataFrame()\n",
    "df_new['Age']=df['Monthly Income']\n",
    "df_new['satisfaction']=df['satisfaction']\n",
    "df_new.head()"
   ]
  }
 ],
 "metadata": {
  "colab": {
   "collapsed_sections": [],
   "name": "R2_JUG.ipynb",
   "provenance": []
  },
  "kernelspec": {
   "display_name": "Python 3",
   "language": "python",
   "name": "python3"
  },
  "language_info": {
   "codemirror_mode": {
    "name": "ipython",
    "version": 3
   },
   "file_extension": ".py",
   "mimetype": "text/x-python",
   "name": "python",
   "nbconvert_exporter": "python",
   "pygments_lexer": "ipython3",
   "version": "3.7.3"
  }
 },
 "nbformat": 4,
 "nbformat_minor": 1
}
